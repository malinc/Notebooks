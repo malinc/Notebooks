{
 "cells": [
  {
   "cell_type": "markdown",
   "metadata": {
    "slideshow": {
     "slide_type": "slide"
    }
   },
   "source": [
    "# Jupyter Notebook Slideshows\n",
    "\n",
    "\n"
   ]
  },
  {
   "cell_type": "markdown",
   "metadata": {
    "slideshow": {
     "slide_type": "slide"
    }
   },
   "source": [
    "## Text cells\n",
    "\n",
    "Under `Cell -> Cell Type` you can change a cell to `Markdown`.\n",
    "\n",
    "Information about formatting text cells at [Markdown Cheatsheet](https://github.com/adam-p/markdown-here/wiki/Markdown-Cheatsheet)."
   ]
  },
  {
   "cell_type": "markdown",
   "metadata": {
    "slideshow": {
     "slide_type": "subslide"
    }
   },
   "source": [
    "## Text Cells with formulas\n",
    "\n",
    "You make an inline formula, like $f(x) = x^2$, by inclosing LaTeX-code between single dollar-symbols.\n",
    "\n",
    "You make a display style formula by enclosing the code between double dollar-symbols:\n",
    "\n",
    "$$\\int_0^\\pi \\sin(2x) dx$$"
   ]
  },
  {
   "cell_type": "markdown",
   "metadata": {
    "slideshow": {
     "slide_type": "slide"
    }
   },
   "source": [
    "## Slideshows\n",
    "Choose `Slideshow` under `View -> Cell Toolbar`.\n",
    "\n",
    "You can download a **static** html-document of the slideshow. Choose `slides` under `File -> Download`.\n",
    "\n",
    "In order to use an **interactive** slideshow, you must download RISE."
   ]
  },
  {
   "cell_type": "markdown",
   "metadata": {
    "slideshow": {
     "slide_type": "subslide"
    }
   },
   "source": [
    "## Using RISE\n",
    "\n",
    "If using Anaconda, you download and install RISE by writing\n",
    "\n",
    "`conda install -c conda-forge rise`\n",
    "\n",
    "in the terminal. More information at [RISE &#8212; RISE 5.4.1](https://rise.readthedocs.io/en/docs_hot_fixes/).\n",
    "\n",
    "After the installation you will have a new icon in the toolbar.\n",
    "\n",
    "![RISEicon](https://raw.githubusercontent.com/malinc/Notebooks/master/images/RISEicon.png)\n",
    "\n",
    "\n"
   ]
  },
  {
   "cell_type": "markdown",
   "metadata": {
    "slideshow": {
     "slide_type": "slide"
    }
   },
   "source": [
    "## Interactive slideshows\n",
    "\n",
    "With an interactive slideshow, you can change the content of a code cell, then press <kbd>shift</kbd>+<kbd>enter</kbd> to run the code."
   ]
  },
  {
   "cell_type": "code",
   "execution_count": 4,
   "metadata": {},
   "outputs": [
    {
     "data": {
      "text/plain": [
       "[2, -4, 9, 11]"
      ]
     },
     "execution_count": 4,
     "metadata": {},
     "output_type": "execute_result"
    }
   ],
   "source": [
    "L = [9, 8, 2, -4, 9, 11]\n",
    "L[2:]"
   ]
  }
 ],
 "metadata": {
  "celltoolbar": "Slideshow",
  "kernelspec": {
   "display_name": "Python 3",
   "language": "python",
   "name": "python3"
  },
  "language_info": {
   "codemirror_mode": {
    "name": "ipython",
    "version": 3
   },
   "file_extension": ".py",
   "mimetype": "text/x-python",
   "name": "python",
   "nbconvert_exporter": "python",
   "pygments_lexer": "ipython3",
   "version": "3.7.1"
  },
  "rise": {
   "autolaunch": true
  }
 },
 "nbformat": 4,
 "nbformat_minor": 2
}
