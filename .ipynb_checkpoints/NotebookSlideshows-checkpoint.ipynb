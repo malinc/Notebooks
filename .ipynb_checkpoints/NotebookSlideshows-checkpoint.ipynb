{
 "cells": [
  {
   "cell_type": "markdown",
   "metadata": {
    "slideshow": {
     "slide_type": "slide"
    }
   },
   "source": [
    "# Jupyter Notebook Slideshows\n",
    "\n",
    "With an interactive slideshow, you can change the content of a code cell, then press <kbd>shift</kbd>+<kbd>enter</kbd> to run the code.\n",
    "\n",
    "Try changing the code below!\n"
   ]
  },
  {
   "cell_type": "code",
   "execution_count": 2,
   "metadata": {},
   "outputs": [
    {
     "name": "stdout",
     "output_type": "stream",
     "text": [
      "The sum is 19\n"
     ]
    }
   ],
   "source": [
    "a = 6\n",
    "b = 13\n",
    "print(\"The sum is\", a+b)"
   ]
  },
  {
   "cell_type": "markdown",
   "metadata": {
    "slideshow": {
     "slide_type": "slide"
    }
   },
   "source": [
    "## Notebooks &#8212; text and code\n",
    "\n",
    "The default type of a cell in a notebook is `Code`.\n",
    "\n",
    "Under `Cell -> Cell Type` you can change a cell to `Markdown`, i.e.  a text cell.\n",
    "\n",
    "Information about formatting text cells at: [Markdown Cheatsheet](https://github.com/adam-p/markdown-here/wiki/Markdown-Cheatsheet)."
   ]
  },
  {
   "cell_type": "markdown",
   "metadata": {
    "slideshow": {
     "slide_type": "subslide"
    }
   },
   "source": [
    "## Text cells with formulas\n",
    "\n",
    "You make an inline formula, like $f(x) = x^2$, by inclosing LaTeX-code between single dollar signs.\n",
    "\n",
    "You make a display style formula by enclosing the code between double dollar signs:\n",
    "\n",
    "$$\\int_0^\\pi\\!\\sin(2x)\\,dx$$"
   ]
  },
  {
   "cell_type": "markdown",
   "metadata": {
    "slideshow": {
     "slide_type": "slide"
    }
   },
   "source": [
    "## Making slideshows\n",
    "Choose `Slideshow` under `View -> Cell Toolbar`.\n",
    "\n",
    "For each cell you can choose `Slide Type`.\n",
    "\n",
    "![slideType](https://raw.githubusercontent.com/malinc/Notebooks/master/images/slideType.png)"
   ]
  },
  {
   "cell_type": "markdown",
   "metadata": {
    "slideshow": {
     "slide_type": "subslide"
    }
   },
   "source": [
    "You can download a **static** html-document of the slideshow. Choose `slides` under `File -> Download`.\n",
    "\n",
    "In order to use an **interactive** slideshow, you must download and install RISE."
   ]
  },
  {
   "cell_type": "markdown",
   "metadata": {
    "slideshow": {
     "slide_type": "slide"
    }
   },
   "source": [
    "## Download and install RISE\n",
    "\n",
    "If using Anaconda, you download and install RISE by writing\n",
    "\n",
    "`conda install -c conda-forge rise`\n",
    "\n",
    "in the terminal. \n",
    "\n",
    "More information about RISE at: [RISE &#8212; RISE 5.4.1](https://rise.readthedocs.io/en/docs_hot_fixes/).\n"
   ]
  },
  {
   "cell_type": "markdown",
   "metadata": {
    "slideshow": {
     "slide_type": "subslide"
    }
   },
   "source": [
    "After the installation you will have a new icon in the toolbar, to Enter/Exit RISE Slideshow, as shown below.\n",
    "\n",
    "![RISEicon](https://raw.githubusercontent.com/malinc/Notebooks/master/images/RISEicon.png)"
   ]
  }
 ],
 "metadata": {
  "celltoolbar": "Slideshow",
  "kernelspec": {
   "display_name": "Python 3",
   "language": "python",
   "name": "python3"
  },
  "language_info": {
   "codemirror_mode": {
    "name": "ipython",
    "version": 3
   },
   "file_extension": ".py",
   "mimetype": "text/x-python",
   "name": "python",
   "nbconvert_exporter": "python",
   "pygments_lexer": "ipython3",
   "version": "3.7.2"
  },
  "rise": {
   "autolaunch": true
  }
 },
 "nbformat": 4,
 "nbformat_minor": 2
}
