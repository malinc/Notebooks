{
 "cells": [
  {
   "cell_type": "code",
   "execution_count": 1,
   "metadata": {
    "slideshow": {
     "slide_type": "notes"
    }
   },
   "outputs": [
    {
     "data": {
      "text/html": [
       "<style>\n",
       "    h1, h2, .definition {\n",
       "        color: #4904b5;\n",
       "    }\n",
       "    .alert {\n",
       "        color: #ff0000;\n",
       "        font-style: italic;\n",
       "    }\n",
       "    \n",
       "</style>\n"
      ],
      "text/plain": [
       "<IPython.core.display.HTML object>"
      ]
     },
     "metadata": {},
     "output_type": "display_data"
    }
   ],
   "source": [
    "%%html\n",
    "<style>\n",
    "    h1, h2, .definition {\n",
    "        color: #4904b5;\n",
    "    }\n",
    "    .alert {\n",
    "        color: #ff0000;\n",
    "        font-style: italic;\n",
    "    }\n",
    "    \n",
    "</style>"
   ]
  },
  {
   "cell_type": "markdown",
   "metadata": {
    "slideshow": {
     "slide_type": "slide"
    }
   },
   "source": [
    "# Computational Programming with Python\n",
    "### Unit 10: More about plotting\n",
    "\n",
    "### Center for Mathematical Sciences, Lund University\n",
    "Lecturer: Claus Führer, Malin Christersson"
   ]
  },
  {
   "cell_type": "markdown",
   "metadata": {
    "slideshow": {
     "slide_type": "slide"
    }
   },
   "source": [
    "## matplotlib.pyplot\n",
    "\n",
    "use either\n",
    "\n",
    "<code>from matplotlib.pyplot import *</code>\n",
    "\n",
    "<code>from numpy import *</code>\n",
    "    \n",
    "or\n",
    "\n",
    "<code>from pylab import *</code>"
   ]
  },
  {
   "cell_type": "code",
   "execution_count": 3,
   "metadata": {
    "slideshow": {
     "slide_type": "notes"
    }
   },
   "outputs": [],
   "source": [
    "from matplotlib.pyplot import *\n",
    "from numpy import *"
   ]
  },
  {
   "cell_type": "markdown",
   "metadata": {
    "slideshow": {
     "slide_type": "slide"
    }
   },
   "source": [
    "## Using different backends\n",
    "\n",
    "### Jupyter Notebook \n",
    "\n",
    "use either\n",
    "\n",
    "<code>%matplotlib inline</code>\n",
    "\n",
    "or\n",
    "\n",
    "<code>%matplotlib notebook</code>"
   ]
  },
  {
   "cell_type": "code",
   "execution_count": 4,
   "metadata": {},
   "outputs": [],
   "source": [
    "%matplotlib notebook"
   ]
  },
  {
   "cell_type": "markdown",
   "metadata": {
    "slideshow": {
     "slide_type": "subslide"
    }
   },
   "source": [
    "### Spyder\n",
    "\n",
    "Choose <code>Inline</code> or <code>Automatic</code>. Then restart the kernel.\n",
    "\n",
    "![title](images/inlineOrAutomatic.png)"
   ]
  },
  {
   "cell_type": "code",
   "execution_count": null,
   "metadata": {},
   "outputs": [],
   "source": []
  }
 ],
 "metadata": {
  "celltoolbar": "Slideshow",
  "kernelspec": {
   "display_name": "Python 3",
   "language": "python",
   "name": "python3"
  },
  "language_info": {
   "codemirror_mode": {
    "name": "ipython",
    "version": 3
   },
   "file_extension": ".py",
   "mimetype": "text/x-python",
   "name": "python",
   "nbconvert_exporter": "python",
   "pygments_lexer": "ipython3",
   "version": "3.7.2"
  }
 },
 "nbformat": 4,
 "nbformat_minor": 2
}
